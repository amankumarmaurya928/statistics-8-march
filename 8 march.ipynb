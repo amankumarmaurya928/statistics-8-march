{
 "cells": [
  {
   "cell_type": "code",
   "execution_count": 4,
   "id": "0748cebb-145e-4d07-a7c5-ddb8bf60524d",
   "metadata": {},
   "outputs": [
    {
     "data": {
      "text/plain": [
       "'Probability density function and cumulative distribution function are used to define the distribution of continuous random variables.\\nIf we differentiate the cumulative distribution function of a continuous random variable it results in the probability density function.\\nConversely, on integrating the probability density function we get the cumulative distribution function.\\n'"
      ]
     },
     "execution_count": 4,
     "metadata": {},
     "output_type": "execute_result"
    }
   ],
   "source": [
    "# Q1\n",
    "'''Probability density function and cumulative distribution function are used to define the distribution of continuous random variables.\n",
    "If we differentiate the cumulative distribution function of a continuous random variable it results in the probability density function.\n",
    "Conversely, on integrating the probability density function we get the cumulative distribution function.\n",
    "'''"
   ]
  },
  {
   "cell_type": "code",
   "execution_count": 5,
   "id": "6230f805-be90-48c6-8d03-d77fd1c6fa97",
   "metadata": {},
   "outputs": [
    {
     "data": {
      "text/plain": [
       "'There are two types of probability distributions:\\n1. Discrete probability distributions.\\n2. Continuous probability distributions.\\n'"
      ]
     },
     "execution_count": 5,
     "metadata": {},
     "output_type": "execute_result"
    }
   ],
   "source": [
    "# Q2\n",
    "'''There are two types of probability distributions:\n",
    "1. Discrete probability distributions.\n",
    "2. Continuous probability distributions.\n",
    "'''"
   ]
  },
  {
   "cell_type": "code",
   "execution_count": 6,
   "id": "c4122a43-b64a-45c5-a115-eafef6263c72",
   "metadata": {},
   "outputs": [
    {
     "data": {
      "text/plain": [
       "'A normal distribution is a type of continuous probability distribution for a real-valued random variable.\\nIt is based on mean and standard deviation.\\nThe probability distribution function or PDF computes the likelihood of a single point in the distribution.\\nThe general formula to calculate PDF for the normal distribution is\\n\\n f_X(x) = \\x0crac{1}{\\\\sigma \\\\sqrt{2\\\\pi}} e^{\\x0crac{-1}{2}\\x08ig( \\x0crac{x-\\\\mu}{\\\\sigma} \\x08ig)^2}\\\\ \\n\\nHere, \\n\\nµ is the mean\\nσ is the standard deviation of the distribution\\nx is the number\\n'"
      ]
     },
     "execution_count": 6,
     "metadata": {},
     "output_type": "execute_result"
    }
   ],
   "source": [
    "# Q3\n",
    "'''A normal distribution is a type of continuous probability distribution for a real-valued random variable.\n",
    "It is based on mean and standard deviation.\n",
    "The probability distribution function or PDF computes the likelihood of a single point in the distribution.\n",
    "The general formula to calculate PDF for the normal distribution is\n",
    "\n",
    " f_X(x) = \\frac{1}{\\sigma \\sqrt{2\\pi}} e^{\\frac{-1}{2}\\big( \\frac{x-\\mu}{\\sigma} \\big)^2}\\\\ \n",
    "\n",
    "Here, \n",
    "\n",
    "µ is the mean\n",
    "σ is the standard deviation of the distribution\n",
    "x is the number\n",
    "'''"
   ]
  },
  {
   "cell_type": "code",
   "execution_count": 7,
   "id": "0385d780-9329-455e-a9ab-36c62d8d4b6d",
   "metadata": {},
   "outputs": [
    {
     "data": {
      "text/plain": [
       "\"The properties of the binomial distribution are:\\nThere are two possible outcomes: true or false, success or failure, yes or no.\\nThere is 'n' number of independent trials or a fixed number of n times repeated trials.\\nThe probability of success or failure remains the same for each trial.\\n\\nexample, if we toss a coin, there could be only two possible outcomes: heads or tails,\\nand if any test is taken, then there could be only two results: pass or fail.\\nThis distribution is also called a binomial probability distribution.\\nThere are two parameters n and p used here in a binomial distribution.\\n\""
      ]
     },
     "execution_count": 7,
     "metadata": {},
     "output_type": "execute_result"
    }
   ],
   "source": [
    "# Q4\n",
    "'''The properties of the binomial distribution are:\n",
    "There are two possible outcomes: true or false, success or failure, yes or no.\n",
    "There is 'n' number of independent trials or a fixed number of n times repeated trials.\n",
    "The probability of success or failure remains the same for each trial.\n",
    "\n",
    "example, if we toss a coin, there could be only two possible outcomes: heads or tails,\n",
    "and if any test is taken, then there could be only two results: pass or fail.\n",
    "This distribution is also called a binomial probability distribution.\n",
    "There are two parameters n and p used here in a binomial distribution.\n",
    "'''"
   ]
  },
  {
   "cell_type": "code",
   "execution_count": 10,
   "id": "56b8e946-3f46-443c-8bb3-219008798257",
   "metadata": {},
   "outputs": [
    {
     "name": "stdout",
     "output_type": "stream",
     "text": [
      "mean = 400.0\n",
      "variance = 240.0\n"
     ]
    },
    {
     "data": {
      "image/png": "[encoded data removed]",
      "text/plain": [
       "<Figure size 640x480 with 1 Axes>"
      ]
     },
     "metadata": {},
     "output_type": "display_data"
    }
   ],
   "source": [
    "# Q5\n",
    "import matplotlib.pyplot as plt\n",
    "import numpy as np\n",
    "from scipy.stats import binom\n",
    "n = 1000\n",
    "p = 0.4\n",
    "r_values = list(range(n + 1))\n",
    "mean, var = binom.stats(n, p)\n",
    "dist = [binom.pmf(r, n, p) for r in r_values ]\n",
    "for i in range(n + 1):\n",
    "   str(r_values[i]) + \"\\t\" + str(dist[i])\n",
    "plt.hist(dist)\n",
    "print(\"mean = \"+str(mean))\n",
    "print(\"variance = \"+str(var))"
   ]
  },
  {
   "cell_type": "code",
   "execution_count": 5,
   "id": "4d6026a0-dd43-4e6a-8683-2fd46ea71800",
   "metadata": {},
   "outputs": [
    {
     "name": "stdout",
     "output_type": "stream",
     "text": [
      "[ 0  1  2  3  4  5  6  7  8  9 10 11 12 13 14 15 16]\n",
      "[0.001 0.007 0.03  0.082 0.173 0.301 0.45  0.599 0.729 0.83  0.901 0.947\n",
      " 0.973 0.987 0.994 0.998 0.999]\n"
     ]
    }
   ],
   "source": [
    "# Q6\n",
    "import numpy as np\n",
    "import matplotlib.pyplot as plt\n",
    "from scipy.stats import poisson\n",
    "k = np.arange(0, 17)\n",
    "\n",
    "print(k)\n",
    "cdf = poisson.cdf(k, mu=7)\n",
    "cdf = np.round(cdf, 3)\n",
    "\n",
    "print(cdf)"
   ]
  },
  {
   "cell_type": "code",
   "execution_count": 12,
   "id": "d1ff3bc1-739f-44b0-b7b0-9de6f7a895b5",
   "metadata": {},
   "outputs": [
    {
     "data": {
      "text/plain": [
       "'In a Binomial distribution, there is a fixed number of trials (e.g. flip a coin 3 times) \\nIn a Poisson distribution, there could be any number of events that occur during a certain time interval \\n(e.g. how many customers will arrive at a store in a given hour?)\\n'"
      ]
     },
     "execution_count": 12,
     "metadata": {},
     "output_type": "execute_result"
    }
   ],
   "source": [
    "# Q7\n",
    "'''In a Binomial distribution, there is a fixed number of trials (e.g. flip a coin 3 times) \n",
    "In a Poisson distribution, there could be any number of events that occur during a certain time interval \n",
    "(e.g. how many customers will arrive at a store in a given hour?)\n",
    "'''"
   ]
  },
  {
   "cell_type": "code",
   "execution_count": 2,
   "id": "d3d78f14-bf5f-4d2f-809c-bb7903bfe6f2",
   "metadata": {},
   "outputs": [
    {
     "data": {
      "text/plain": [
       "'the mean = 5 \\nu = 5\\nvar(x)= 32-5\\nv= (var(x))^1/2\\nmean =5\\nv = 5.196\\n'"
      ]
     },
     "execution_count": 2,
     "metadata": {},
     "output_type": "execute_result"
    }
   ],
   "source": [
    "# Q8\n",
    "'''the mean = 5 \n",
    "u = 5\n",
    "var(x)= 32-5\n",
    "v= (var(x))^1/2\n",
    "mean =5\n",
    "v = 5.196\n",
    "'''"
   ]
  },
  {
   "cell_type": "code",
   "execution_count": 3,
   "id": "8bcca475-5d54-454a-992b-135cb644bfd1",
   "metadata": {},
   "outputs": [
    {
     "data": {
      "text/plain": [
       "'The mean of the binomial distribution is np, and the variance of the binomial distribution is np (1 − p). \\n\\nThe mean and the variance of the Poisson distribution are the same, \\nwhich is equal to the average number of successes that occur in the given interval of time.\\n'"
      ]
     },
     "execution_count": 3,
     "metadata": {},
     "output_type": "execute_result"
    }
   ],
   "source": [
    "# Q9\n",
    "'''The mean of the binomial distribution is np, and the variance of the binomial distribution is np (1 − p). \n",
    "\n",
    "The mean and the variance of the Poisson distribution are the same, \n",
    "which is equal to the average number of successes that occur in the given interval of time.\n",
    "'''"
   ]
  },
  {
   "cell_type": "code",
   "execution_count": 4,
   "id": "b56dcead-e34a-487c-8b0f-8966b3bf66b9",
   "metadata": {},
   "outputs": [
    {
     "data": {
      "text/plain": [
       "'A normal distribution is symmetric from the peak of the curve, where the mean is.\\nThis means that most of the observed data is clustered near the mean, while the data become less frequent when farther away from the mean.\\n'"
      ]
     },
     "execution_count": 4,
     "metadata": {},
     "output_type": "execute_result"
    }
   ],
   "source": [
    "# Q10\n",
    "'''A normal distribution is symmetric from the peak of the curve, where the mean is.\n",
    "This means that most of the observed data is clustered near the mean, while the data become less frequent when farther away from the mean.\n",
    "'''"
   ]
  },
  {
   "cell_type": "code",
   "execution_count": null,
   "id": "88991009-8d2b-4339-8274-08b941e75d8c",
   "metadata": {},
   "outputs": [],
   "source": []
  }
 ],
 "metadata": {
  "kernelspec": {
   "display_name": "Python 3 (ipykernel)",
   "language": "python",
   "name": "python3"
  },
  "language_info": {
   "codemirror_mode": {
    "name": "ipython",
    "version": 3
   },
   "file_extension": ".py",
   "mimetype": "text/x-python",
   "name": "python",
   "nbconvert_exporter": "python",
   "pygments_lexer": "ipython3",
   "version": "3.10.8"
  }
 },
 "nbformat": 4,
 "nbformat_minor": 5
}
